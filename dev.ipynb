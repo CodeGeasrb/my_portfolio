{
 "cells": [
  {
   "cell_type": "markdown",
   "id": "6bbe8e7a",
   "metadata": {},
   "source": [
    "### Importar librerías"
   ]
  },
  {
   "cell_type": "code",
   "execution_count": 9,
   "id": "4ff2c30a",
   "metadata": {},
   "outputs": [],
   "source": [
    "from dotenv import load_dotenv\n",
    "from PyPDF2 import PdfReader\n",
    "from openai import OpenAI\n",
    "import gradio as gr\n",
    "import json\n",
    "import os"
   ]
  },
  {
   "cell_type": "markdown",
   "id": "94967007",
   "metadata": {},
   "source": [
    "### Cargar variables de entorno"
   ]
  },
  {
   "cell_type": "code",
   "execution_count": null,
   "id": "e83c0ed8",
   "metadata": {},
   "outputs": [],
   "source": [
    "# Cargar variables\n",
    "load_dotenv()\n",
    "\n",
    "# Cargar api keys\n",
    "openai_api_key = os.getenv(\"OPENAI_API_KEY\")   \n",
    "groq_api_key = os.getenv(\"GROQ_API_KEY\")\n",
    "pushover_token = os.getenv(\"PUSHOVER_TOKEN\")   \n",
    "pushover_user_key = os.getenv(\"PUSHOVER_USER\")   "
   ]
  },
  {
   "cell_type": "code",
   "execution_count": null,
   "id": "eb212b47",
   "metadata": {},
   "outputs": [],
   "source": []
  },
  {
   "cell_type": "code",
   "execution_count": null,
   "id": "ba392949",
   "metadata": {},
   "outputs": [],
   "source": []
  },
  {
   "cell_type": "code",
   "execution_count": null,
   "metadata": {},
   "outputs": [],
   "source": []
  }
 ],
 "metadata": {
  "kernelspec": {
   "display_name": ".venv",
   "language": "python",
   "name": "python3"
  },
  "language_info": {
   "codemirror_mode": {
    "name": "ipython",
    "version": 3
   },
   "file_extension": ".py",
   "mimetype": "text/x-python",
   "name": "python",
   "nbconvert_exporter": "python",
   "pygments_lexer": "ipython3",
   "version": "3.12.11"
  }
 },
 "nbformat": 4,
 "nbformat_minor": 5
}
